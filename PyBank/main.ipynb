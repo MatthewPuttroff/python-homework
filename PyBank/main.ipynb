{
 "cells": [
  {
   "cell_type": "code",
   "execution_count": 28,
   "source": [
    "#import pandas as pd\r\n",
    "from pathlib import Path\r\n",
    "import os\r\n",
    "import csv \r\n",
    "import numpy as np"
   ],
   "outputs": [],
   "metadata": {}
  },
  {
   "cell_type": "markdown",
   "source": [
    "##Redoing with csv reader (vs. Pandas)"
   ],
   "metadata": {}
  },
  {
   "cell_type": "code",
   "execution_count": 29,
   "source": [
    "print(Path.cwd())"
   ],
   "outputs": [
    {
     "output_type": "stream",
     "name": "stdout",
     "text": [
      "c:\\Users\\matth\\OneDrive\\ASU\\Assignments\\HWtwo\\python-homework\\PyBank\n"
     ]
    }
   ],
   "metadata": {}
  },
  {
   "cell_type": "code",
   "execution_count": 30,
   "source": [
    "csvpath = Path(\"budget_data.csv\")"
   ],
   "outputs": [],
   "metadata": {}
  },
  {
   "cell_type": "code",
   "execution_count": 5,
   "source": [
    "records = []"
   ],
   "outputs": [],
   "metadata": {}
  },
  {
   "cell_type": "code",
   "execution_count": 74,
   "source": [
    "PL = []"
   ],
   "outputs": [],
   "metadata": {}
  },
  {
   "cell_type": "code",
   "execution_count": 154,
   "source": [
    "with open(csvpath, 'r') as budget_file:\r\n",
    "    csv_reader = csv.reader(budget_file, delimiter=',')\r\n",
    "    csv_header = next(csv_reader)\r\n",
    "    print(csv_header)\r\n",
    "    PL = []\r\n",
    "    dt = []\r\n",
    "    for column in csv_reader:\r\n",
    "        PL.append(column[1])\r\n",
    "        dt.append(column[0])\r\n",
    "#        print(column[1])\r\n",
    "    print(type(budget_file))\r\n",
    "    print (PL)\r\n",
    "    print (dt)\r\n",
    "    "
   ],
   "outputs": [
    {
     "output_type": "stream",
     "name": "stdout",
     "text": [
      "['Date', 'Profit/Losses']\n",
      "<class '_io.TextIOWrapper'>\n",
      "['867884', '984655', '322013', '-69417', '310503', '522857', '1033096', '604885', '-216386', '477532', '893810', '-80353', '779806', '-335203', '697845', '793163', '485070', '584122', '62729', '668179', '899906', '834719', '132003', '309978', '-755566', '1170593', '252788', '1151518', '817256', '570757', '506702', '-1022534', '475062', '779976', '144175', '542494', '359333', '321469', '67780', '471435', '565603', '872480', '789480', '999942', '-1196225', '268997', '-687986', '1150461', '682458', '617856', '824098', '581943', '132864', '448062', '689161', '800701', '1166643', '947333', '578668', '988505', '1139715', '1029471', '687533', '-524626', '158620', '87795', '423389', '840723', '568529', '332067', '989499', '778237', '650000', '-1100387', '-174946', '757143', '445709', '712961', '-1163797', '569899', '768450', '102685', '795914', '60988', '138230', '671099']\n",
      "['Jan-2010', 'Feb-2010', 'Mar-2010', 'Apr-2010', 'May-2010', 'Jun-2010', 'Jul-2010', 'Aug-2010', 'Sep-2010', 'Oct-2010', 'Nov-2010', 'Dec-2010', 'Jan-2011', 'Feb-2011', 'Mar-2011', 'Apr-2011', 'May-2011', 'Jun-2011', 'Jul-2011', 'Aug-2011', 'Sep-2011', 'Oct-2011', 'Nov-2011', 'Dec-2011', 'Jan-2012', 'Feb-2012', 'Mar-2012', 'Apr-2012', 'May-2012', 'Jun-2012', 'Jul-2012', 'Aug-2012', 'Sep-2012', 'Oct-2012', 'Nov-2012', 'Dec-2012', 'Jan-2013', 'Feb-2013', 'Mar-2013', 'Apr-2013', 'May-2013', 'Jun-2013', 'Jul-2013', 'Aug-2013', 'Sep-2013', 'Oct-2013', 'Nov-2013', 'Dec-2013', 'Jan-2014', 'Feb-2014', 'Mar-2014', 'Apr-2014', 'May-2014', 'Jun-2014', 'Jul-2014', 'Aug-2014', 'Sep-2014', 'Oct-2014', 'Nov-2014', 'Dec-2014', 'Jan-2015', 'Feb-2015', 'Mar-2015', 'Apr-2015', 'May-2015', 'Jun-2015', 'Jul-2015', 'Aug-2015', 'Sep-2015', 'Oct-2015', 'Nov-2015', 'Dec-2015', 'Jan-2016', 'Feb-2016', 'Mar-2016', 'Apr-2016', 'May-2016', 'Jun-2016', 'Jul-2016', 'Aug-2016', 'Sep-2016', 'Oct-2016', 'Nov-2016', 'Dec-2016', 'Jan-2017', 'Feb-2017']\n"
     ]
    }
   ],
   "metadata": {}
  },
  {
   "cell_type": "code",
   "execution_count": 98,
   "source": [
    "print(type(PL))"
   ],
   "outputs": [
    {
     "output_type": "stream",
     "name": "stdout",
     "text": [
      "<class 'list'>\n"
     ]
    }
   ],
   "metadata": {}
  },
  {
   "cell_type": "code",
   "execution_count": 47,
   "source": [
    "print(type(budget_file))"
   ],
   "outputs": [
    {
     "output_type": "stream",
     "name": "stdout",
     "text": [
      "<class '_io.TextIOWrapper'>\n"
     ]
    }
   ],
   "metadata": {}
  },
  {
   "cell_type": "code",
   "execution_count": 102,
   "source": [
    "PL[5]"
   ],
   "outputs": [
    {
     "output_type": "execute_result",
     "data": {
      "text/plain": [
       "522857"
      ]
     },
     "metadata": {},
     "execution_count": 102
    }
   ],
   "metadata": {}
  },
  {
   "cell_type": "code",
   "execution_count": 110,
   "source": [
    "count = (len(PL))\r\n",
    "count"
   ],
   "outputs": [
    {
     "output_type": "execute_result",
     "data": {
      "text/plain": [
       "86"
      ]
     },
     "metadata": {},
     "execution_count": 110
    }
   ],
   "metadata": {}
  },
  {
   "cell_type": "code",
   "execution_count": 128,
   "source": [
    "#Total number of months included in the dataset:\r\n",
    "print(\"Total no. of months included in the data set: %d\"%((count)))"
   ],
   "outputs": [
    {
     "output_type": "stream",
     "name": "stdout",
     "text": [
      "Total no. of months included in the data set: 86\n"
     ]
    }
   ],
   "metadata": {}
  },
  {
   "cell_type": "code",
   "execution_count": 107,
   "source": [
    "#Net total amount of Profit/Losses over the entire period.\r\n",
    "profit = 0\r\n",
    "for profits in PL:\r\n",
    "    profit = profit + profits\r\n",
    "\r\n",
    "print(f\"Net total amount of Profit/Losses over the entire period = ${profit}\")"
   ],
   "outputs": [
    {
     "output_type": "stream",
     "name": "stdout",
     "text": [
      "Net total amount of Profit/Losses over the entire period = $38382578\n"
     ]
    }
   ],
   "metadata": {}
  },
  {
   "cell_type": "code",
   "execution_count": 142,
   "source": [
    "PL"
   ],
   "outputs": [
    {
     "output_type": "execute_result",
     "data": {
      "text/plain": [
       "['867884',\n",
       " '984655',\n",
       " '322013',\n",
       " '-69417',\n",
       " '310503',\n",
       " '522857',\n",
       " '1033096',\n",
       " '604885',\n",
       " '-216386',\n",
       " '477532',\n",
       " '893810',\n",
       " '-80353',\n",
       " '779806',\n",
       " '-335203',\n",
       " '697845',\n",
       " '793163',\n",
       " '485070',\n",
       " '584122',\n",
       " '62729',\n",
       " '668179',\n",
       " '899906',\n",
       " '834719',\n",
       " '132003',\n",
       " '309978',\n",
       " '-755566',\n",
       " '1170593',\n",
       " '252788',\n",
       " '1151518',\n",
       " '817256',\n",
       " '570757',\n",
       " '506702',\n",
       " '-1022534',\n",
       " '475062',\n",
       " '779976',\n",
       " '144175',\n",
       " '542494',\n",
       " '359333',\n",
       " '321469',\n",
       " '67780',\n",
       " '471435',\n",
       " '565603',\n",
       " '872480',\n",
       " '789480',\n",
       " '999942',\n",
       " '-1196225',\n",
       " '268997',\n",
       " '-687986',\n",
       " '1150461',\n",
       " '682458',\n",
       " '617856',\n",
       " '824098',\n",
       " '581943',\n",
       " '132864',\n",
       " '448062',\n",
       " '689161',\n",
       " '800701',\n",
       " '1166643',\n",
       " '947333',\n",
       " '578668',\n",
       " '988505',\n",
       " '1139715',\n",
       " '1029471',\n",
       " '687533',\n",
       " '-524626',\n",
       " '158620',\n",
       " '87795',\n",
       " '423389',\n",
       " '840723',\n",
       " '568529',\n",
       " '332067',\n",
       " '989499',\n",
       " '778237',\n",
       " '650000',\n",
       " '-1100387',\n",
       " '-174946',\n",
       " '757143',\n",
       " '445709',\n",
       " '712961',\n",
       " '-1163797',\n",
       " '569899',\n",
       " '768450',\n",
       " '102685',\n",
       " '795914',\n",
       " '60988',\n",
       " '138230',\n",
       " '671099']"
      ]
     },
     "metadata": {},
     "execution_count": 142
    }
   ],
   "metadata": {}
  },
  {
   "cell_type": "code",
   "execution_count": 133,
   "source": [
    "change = 0.0\r\n",
    "annual_change = []\r\n",
    "for i in range(1,len(PL)):\r\n",
    "    change = (int(PL[i]) - int(PL[i-1]))\r\n",
    "    annual_change.append(change)"
   ],
   "outputs": [],
   "metadata": {}
  },
  {
   "cell_type": "code",
   "execution_count": 135,
   "source": [
    "average_change = np.mean(annual_change)\r\n",
    "average_change"
   ],
   "outputs": [
    {
     "output_type": "execute_result",
     "data": {
      "text/plain": [
       "-2315.1176470588234"
      ]
     },
     "metadata": {},
     "execution_count": 135
    }
   ],
   "metadata": {}
  },
  {
   "cell_type": "code",
   "execution_count": 169,
   "source": [
    "increase = 0\r\n",
    "greatest_increase = 0\r\n",
    "increase_dt=\"\"\r\n",
    "for i in range(1,len(PL)):\r\n",
    "    increase = int(PL[i]) - int(PL[i-1])\r\n",
    "    #print(i)\r\n",
    "    #print(dt[i])\r\n",
    "    if increase > greatest_increase:\r\n",
    "        greatest_increase = increase\r\n",
    "    #    print(\"Inside\")\r\n",
    "        increase_dt = dt[i]\r\n",
    "print(increase_dt)\r\n",
    "print(greatest_increase)"
   ],
   "outputs": [
    {
     "output_type": "stream",
     "name": "stdout",
     "text": [
      "Feb-2012\n",
      "1926159\n"
     ]
    }
   ],
   "metadata": {}
  },
  {
   "cell_type": "code",
   "execution_count": 170,
   "source": [
    "decrease = 0\r\n",
    "greatest_decrease = 0\r\n",
    "decrease_dt=\"\"\r\n",
    "for i in range(1,len(PL)):\r\n",
    "    decrease = int(PL[i]) - int(PL[i-1])\r\n",
    "    #print(i)\r\n",
    "    #print(dt[i])\r\n",
    "    if decrease < greatest_decrease:\r\n",
    "        greatest_decrease = decrease\r\n",
    "    #    print(\"Inside\")\r\n",
    "        decrease_dt = dt[i]\r\n",
    "print(decrease_dt)\r\n",
    "print(greatest_decrease)"
   ],
   "outputs": [
    {
     "output_type": "stream",
     "name": "stdout",
     "text": [
      "Sep-2013\n",
      "-2196167\n"
     ]
    }
   ],
   "metadata": {}
  }
 ],
 "metadata": {
  "orig_nbformat": 4,
  "language_info": {
   "name": "python",
   "version": "3.8.8",
   "mimetype": "text/x-python",
   "codemirror_mode": {
    "name": "ipython",
    "version": 3
   },
   "pygments_lexer": "ipython3",
   "nbconvert_exporter": "python",
   "file_extension": ".py"
  },
  "kernelspec": {
   "name": "python3",
   "display_name": "Python 3.8.8 64-bit ('base': conda)"
  },
  "interpreter": {
   "hash": "00d97aa7742505a1d40e72afe88795d34a7c326375c01286fdda43484fe6d6dd"
  }
 },
 "nbformat": 4,
 "nbformat_minor": 2
}