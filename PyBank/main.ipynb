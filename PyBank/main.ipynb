{
 "cells": [
  {
   "cell_type": "code",
   "execution_count": 62,
   "source": [
    "import pandas as pd\r\n",
    "from pathlib import Path\r\n",
    "import os\r\n",
    "import csv \r\n",
    "import numpy as np"
   ],
   "outputs": [],
   "metadata": {}
  },
  {
   "cell_type": "code",
   "execution_count": 63,
   "source": [
    "csvpath = Path(\"budget_data.csv\")"
   ],
   "outputs": [],
   "metadata": {}
  },
  {
   "cell_type": "code",
   "execution_count": 64,
   "source": [
    "pd.read_csv(\"budget_data.csv\")"
   ],
   "outputs": [
    {
     "output_type": "execute_result",
     "data": {
      "text/plain": [
       "        Date  Profit/Losses\n",
       "0   Jan-2010         867884\n",
       "1   Feb-2010         984655\n",
       "2   Mar-2010         322013\n",
       "3   Apr-2010         -69417\n",
       "4   May-2010         310503\n",
       "..       ...            ...\n",
       "81  Oct-2016         102685\n",
       "82  Nov-2016         795914\n",
       "83  Dec-2016          60988\n",
       "84  Jan-2017         138230\n",
       "85  Feb-2017         671099\n",
       "\n",
       "[86 rows x 2 columns]"
      ],
      "text/html": [
       "<div>\n",
       "<style scoped>\n",
       "    .dataframe tbody tr th:only-of-type {\n",
       "        vertical-align: middle;\n",
       "    }\n",
       "\n",
       "    .dataframe tbody tr th {\n",
       "        vertical-align: top;\n",
       "    }\n",
       "\n",
       "    .dataframe thead th {\n",
       "        text-align: right;\n",
       "    }\n",
       "</style>\n",
       "<table border=\"1\" class=\"dataframe\">\n",
       "  <thead>\n",
       "    <tr style=\"text-align: right;\">\n",
       "      <th></th>\n",
       "      <th>Date</th>\n",
       "      <th>Profit/Losses</th>\n",
       "    </tr>\n",
       "  </thead>\n",
       "  <tbody>\n",
       "    <tr>\n",
       "      <th>0</th>\n",
       "      <td>Jan-2010</td>\n",
       "      <td>867884</td>\n",
       "    </tr>\n",
       "    <tr>\n",
       "      <th>1</th>\n",
       "      <td>Feb-2010</td>\n",
       "      <td>984655</td>\n",
       "    </tr>\n",
       "    <tr>\n",
       "      <th>2</th>\n",
       "      <td>Mar-2010</td>\n",
       "      <td>322013</td>\n",
       "    </tr>\n",
       "    <tr>\n",
       "      <th>3</th>\n",
       "      <td>Apr-2010</td>\n",
       "      <td>-69417</td>\n",
       "    </tr>\n",
       "    <tr>\n",
       "      <th>4</th>\n",
       "      <td>May-2010</td>\n",
       "      <td>310503</td>\n",
       "    </tr>\n",
       "    <tr>\n",
       "      <th>...</th>\n",
       "      <td>...</td>\n",
       "      <td>...</td>\n",
       "    </tr>\n",
       "    <tr>\n",
       "      <th>81</th>\n",
       "      <td>Oct-2016</td>\n",
       "      <td>102685</td>\n",
       "    </tr>\n",
       "    <tr>\n",
       "      <th>82</th>\n",
       "      <td>Nov-2016</td>\n",
       "      <td>795914</td>\n",
       "    </tr>\n",
       "    <tr>\n",
       "      <th>83</th>\n",
       "      <td>Dec-2016</td>\n",
       "      <td>60988</td>\n",
       "    </tr>\n",
       "    <tr>\n",
       "      <th>84</th>\n",
       "      <td>Jan-2017</td>\n",
       "      <td>138230</td>\n",
       "    </tr>\n",
       "    <tr>\n",
       "      <th>85</th>\n",
       "      <td>Feb-2017</td>\n",
       "      <td>671099</td>\n",
       "    </tr>\n",
       "  </tbody>\n",
       "</table>\n",
       "<p>86 rows × 2 columns</p>\n",
       "</div>"
      ]
     },
     "metadata": {},
     "execution_count": 64
    }
   ],
   "metadata": {}
  },
  {
   "cell_type": "code",
   "execution_count": 65,
   "source": [
    "with open(csvpath, 'r') as csvfile:\r\n",
    "    csvreader = csv.reader(csvfile, delimiter=',')"
   ],
   "outputs": [],
   "metadata": {}
  },
  {
   "cell_type": "code",
   "execution_count": 6,
   "source": [
    "print(csvreader)"
   ],
   "outputs": [
    {
     "output_type": "stream",
     "name": "stdout",
     "text": [
      "<_csv.reader object at 0x000002651EE1D5E0>\n"
     ]
    }
   ],
   "metadata": {}
  },
  {
   "cell_type": "code",
   "execution_count": 81,
   "source": [
    "import pandas as pd\r\n",
    "from pathlib import Path\r\n",
    "import os\r\n",
    "import csv\r\n",
    "csvpath = Path(\"budget_data.csv\")\r\n",
    "bd = pd.read_csv(\"budget_data.csv\")\r\n",
    "#records = []\r\n",
    "#csvpath = Path(\"budget_data.csv\")\r\n",
    "#with open(csvpath, 'r') as csvfile:\r\n",
    "#    csvreader = csv.reader(csvfile, delimiter=',')\r\n",
    "#csv_header = next(csvfile)\r\n",
    "print(bd)\r\n",
    "print(type(bd))"
   ],
   "outputs": [
    {
     "output_type": "stream",
     "name": "stdout",
     "text": [
      "        Date  Profit/Losses\n",
      "0   Jan-2010         867884\n",
      "1   Feb-2010         984655\n",
      "2   Mar-2010         322013\n",
      "3   Apr-2010         -69417\n",
      "4   May-2010         310503\n",
      "..       ...            ...\n",
      "81  Oct-2016         102685\n",
      "82  Nov-2016         795914\n",
      "83  Dec-2016          60988\n",
      "84  Jan-2017         138230\n",
      "85  Feb-2017         671099\n",
      "\n",
      "[86 rows x 2 columns]\n",
      "<class 'pandas.core.frame.DataFrame'>\n"
     ]
    }
   ],
   "metadata": {}
  },
  {
   "cell_type": "code",
   "execution_count": 67,
   "source": [
    "bd.columns"
   ],
   "outputs": [
    {
     "output_type": "execute_result",
     "data": {
      "text/plain": [
       "Index(['Date', 'Profit/Losses'], dtype='object')"
      ]
     },
     "metadata": {},
     "execution_count": 67
    }
   ],
   "metadata": {}
  },
  {
   "cell_type": "code",
   "execution_count": 68,
   "source": [
    "bd.head(3)"
   ],
   "outputs": [
    {
     "output_type": "execute_result",
     "data": {
      "text/plain": [
       "       Date  Profit/Losses\n",
       "0  Jan-2010         867884\n",
       "1  Feb-2010         984655\n",
       "2  Mar-2010         322013"
      ],
      "text/html": [
       "<div>\n",
       "<style scoped>\n",
       "    .dataframe tbody tr th:only-of-type {\n",
       "        vertical-align: middle;\n",
       "    }\n",
       "\n",
       "    .dataframe tbody tr th {\n",
       "        vertical-align: top;\n",
       "    }\n",
       "\n",
       "    .dataframe thead th {\n",
       "        text-align: right;\n",
       "    }\n",
       "</style>\n",
       "<table border=\"1\" class=\"dataframe\">\n",
       "  <thead>\n",
       "    <tr style=\"text-align: right;\">\n",
       "      <th></th>\n",
       "      <th>Date</th>\n",
       "      <th>Profit/Losses</th>\n",
       "    </tr>\n",
       "  </thead>\n",
       "  <tbody>\n",
       "    <tr>\n",
       "      <th>0</th>\n",
       "      <td>Jan-2010</td>\n",
       "      <td>867884</td>\n",
       "    </tr>\n",
       "    <tr>\n",
       "      <th>1</th>\n",
       "      <td>Feb-2010</td>\n",
       "      <td>984655</td>\n",
       "    </tr>\n",
       "    <tr>\n",
       "      <th>2</th>\n",
       "      <td>Mar-2010</td>\n",
       "      <td>322013</td>\n",
       "    </tr>\n",
       "  </tbody>\n",
       "</table>\n",
       "</div>"
      ]
     },
     "metadata": {},
     "execution_count": 68
    }
   ],
   "metadata": {}
  },
  {
   "cell_type": "code",
   "execution_count": 70,
   "source": [
    "bd.set_index(\"Date\", inplace=True)"
   ],
   "outputs": [],
   "metadata": {}
  },
  {
   "cell_type": "code",
   "execution_count": 11,
   "source": [
    "bd.head"
   ],
   "outputs": [
    {
     "output_type": "execute_result",
     "data": {
      "text/plain": [
       "<bound method NDFrame.head of           Profit/Losses\n",
       "Date                   \n",
       "Jan-2010         867884\n",
       "Feb-2010         984655\n",
       "Mar-2010         322013\n",
       "Apr-2010         -69417\n",
       "May-2010         310503\n",
       "...                 ...\n",
       "Oct-2016         102685\n",
       "Nov-2016         795914\n",
       "Dec-2016          60988\n",
       "Jan-2017         138230\n",
       "Feb-2017         671099\n",
       "\n",
       "[86 rows x 1 columns]>"
      ]
     },
     "metadata": {},
     "execution_count": 11
    }
   ],
   "metadata": {}
  },
  {
   "cell_type": "code",
   "execution_count": 12,
   "source": [
    "#Total number of months included in the dataset:\r\n",
    "print(\"Total number of months:\",bd.count())"
   ],
   "outputs": [
    {
     "output_type": "stream",
     "name": "stdout",
     "text": [
      "Total number of months: Profit/Losses    86\n",
      "dtype: int64\n"
     ]
    }
   ],
   "metadata": {}
  },
  {
   "cell_type": "code",
   "execution_count": 13,
   "source": [
    "bd.head"
   ],
   "outputs": [
    {
     "output_type": "execute_result",
     "data": {
      "text/plain": [
       "<bound method NDFrame.head of           Profit/Losses\n",
       "Date                   \n",
       "Jan-2010         867884\n",
       "Feb-2010         984655\n",
       "Mar-2010         322013\n",
       "Apr-2010         -69417\n",
       "May-2010         310503\n",
       "...                 ...\n",
       "Oct-2016         102685\n",
       "Nov-2016         795914\n",
       "Dec-2016          60988\n",
       "Jan-2017         138230\n",
       "Feb-2017         671099\n",
       "\n",
       "[86 rows x 1 columns]>"
      ]
     },
     "metadata": {},
     "execution_count": 13
    }
   ],
   "metadata": {}
  },
  {
   "cell_type": "code",
   "execution_count": 17,
   "source": [
    "bd.columns=[\"PL\"]\r\n",
    "bd.head"
   ],
   "outputs": [
    {
     "output_type": "execute_result",
     "data": {
      "text/plain": [
       "<bound method NDFrame.head of               PL\n",
       "Date            \n",
       "Jan-2010  867884\n",
       "Feb-2010  984655\n",
       "Mar-2010  322013\n",
       "Apr-2010  -69417\n",
       "May-2010  310503\n",
       "...          ...\n",
       "Oct-2016  102685\n",
       "Nov-2016  795914\n",
       "Dec-2016   60988\n",
       "Jan-2017  138230\n",
       "Feb-2017  671099\n",
       "\n",
       "[86 rows x 1 columns]>"
      ]
     },
     "metadata": {},
     "execution_count": 17
    }
   ],
   "metadata": {}
  },
  {
   "cell_type": "code",
   "execution_count": 71,
   "source": [
    "#Net total amount of Profit/Losses over the entire period.\r\n",
    "tpl=int(bd.sum())\r\n",
    "print(\"Total sum of profits and losses:\",tpl)\r\n",
    "print(type(tpl))"
   ],
   "outputs": [
    {
     "output_type": "stream",
     "name": "stdout",
     "text": [
      "Total sum of profits and losses: 38382578\n",
      "<class 'int'>\n"
     ]
    }
   ],
   "metadata": {}
  },
  {
   "cell_type": "code",
   "execution_count": 36,
   "source": [
    "avch=bd.pct_change()\r\n",
    "print(avch)"
   ],
   "outputs": [
    {
     "output_type": "stream",
     "name": "stdout",
     "text": [
      "                PL\n",
      "Date              \n",
      "Jan-2010       NaN\n",
      "Feb-2010  0.134547\n",
      "Mar-2010 -0.672969\n",
      "Apr-2010 -1.215572\n",
      "May-2010 -5.473011\n",
      "...            ...\n",
      "Oct-2016 -0.866374\n",
      "Nov-2016  6.751025\n",
      "Dec-2016 -0.923374\n",
      "Jan-2017  1.266511\n",
      "Feb-2017  3.854945\n",
      "\n",
      "[86 rows x 1 columns]\n"
     ]
    }
   ],
   "metadata": {}
  },
  {
   "cell_type": "code",
   "execution_count": 19,
   "source": [
    "bd.dtypes"
   ],
   "outputs": [
    {
     "output_type": "execute_result",
     "data": {
      "text/plain": [
       "PL    int64\n",
       "dtype: object"
      ]
     },
     "metadata": {},
     "execution_count": 19
    }
   ],
   "metadata": {}
  },
  {
   "cell_type": "code",
   "execution_count": 82,
   "source": [
    "bd.describe"
   ],
   "outputs": [
    {
     "output_type": "execute_result",
     "data": {
      "text/plain": [
       "<bound method NDFrame.describe of         Date  Profit/Losses\n",
       "0   Jan-2010         867884\n",
       "1   Feb-2010         984655\n",
       "2   Mar-2010         322013\n",
       "3   Apr-2010         -69417\n",
       "4   May-2010         310503\n",
       "..       ...            ...\n",
       "81  Oct-2016         102685\n",
       "82  Nov-2016         795914\n",
       "83  Dec-2016          60988\n",
       "84  Jan-2017         138230\n",
       "85  Feb-2017         671099\n",
       "\n",
       "[86 rows x 2 columns]>"
      ]
     },
     "metadata": {},
     "execution_count": 82
    }
   ],
   "metadata": {}
  },
  {
   "cell_type": "code",
   "execution_count": 83,
   "source": [
    "bd.shape"
   ],
   "outputs": [
    {
     "output_type": "execute_result",
     "data": {
      "text/plain": [
       "(86, 2)"
      ]
     },
     "metadata": {},
     "execution_count": 83
    }
   ],
   "metadata": {}
  },
  {
   "cell_type": "code",
   "execution_count": 80,
   "source": [
    "bd.describe"
   ],
   "outputs": [
    {
     "output_type": "execute_result",
     "data": {
      "text/plain": [
       "<bound method NDFrame.describe of           Profit/Losses\n",
       "Date                   \n",
       "Jan-2010         867884\n",
       "Feb-2010         984655\n",
       "Mar-2010         322013\n",
       "Apr-2010         -69417\n",
       "May-2010         310503\n",
       "...                 ...\n",
       "Oct-2016         102685\n",
       "Nov-2016         795914\n",
       "Dec-2016          60988\n",
       "Jan-2017         138230\n",
       "Feb-2017         671099\n",
       "\n",
       "[86 rows x 1 columns]>"
      ]
     },
     "metadata": {},
     "execution_count": 80
    }
   ],
   "metadata": {}
  },
  {
   "cell_type": "code",
   "execution_count": 76,
   "source": [
    "avc=bd.diff(axis='rows', periods=-1)\r\n",
    "print(\"The average change in Profit/Loss is $\",avc.mean(axis='rows'))"
   ],
   "outputs": [
    {
     "output_type": "stream",
     "name": "stdout",
     "text": [
      "The average change in Profit/Loss is $ Profit/Losses    2315.117647\n",
      "dtype: float64\n"
     ]
    }
   ],
   "metadata": {}
  },
  {
   "cell_type": "code",
   "execution_count": 109,
   "source": [
    "bd.max(axis='rows')"
   ],
   "outputs": [
    {
     "output_type": "execute_result",
     "data": {
      "text/plain": [
       "Date             Sep-2016\n",
       "Profit/Losses     1170593\n",
       "dtype: object"
      ]
     },
     "metadata": {},
     "execution_count": 109
    }
   ],
   "metadata": {}
  },
  {
   "cell_type": "code",
   "execution_count": 104,
   "source": [
    "bd.iloc[77:83]"
   ],
   "outputs": [
    {
     "output_type": "execute_result",
     "data": {
      "text/plain": [
       "        Date  Profit/Losses\n",
       "77  Jun-2016         712961\n",
       "78  Jul-2016       -1163797\n",
       "79  Aug-2016         569899\n",
       "80  Sep-2016         768450\n",
       "81  Oct-2016         102685\n",
       "82  Nov-2016         795914"
      ],
      "text/html": [
       "<div>\n",
       "<style scoped>\n",
       "    .dataframe tbody tr th:only-of-type {\n",
       "        vertical-align: middle;\n",
       "    }\n",
       "\n",
       "    .dataframe tbody tr th {\n",
       "        vertical-align: top;\n",
       "    }\n",
       "\n",
       "    .dataframe thead th {\n",
       "        text-align: right;\n",
       "    }\n",
       "</style>\n",
       "<table border=\"1\" class=\"dataframe\">\n",
       "  <thead>\n",
       "    <tr style=\"text-align: right;\">\n",
       "      <th></th>\n",
       "      <th>Date</th>\n",
       "      <th>Profit/Losses</th>\n",
       "    </tr>\n",
       "  </thead>\n",
       "  <tbody>\n",
       "    <tr>\n",
       "      <th>77</th>\n",
       "      <td>Jun-2016</td>\n",
       "      <td>712961</td>\n",
       "    </tr>\n",
       "    <tr>\n",
       "      <th>78</th>\n",
       "      <td>Jul-2016</td>\n",
       "      <td>-1163797</td>\n",
       "    </tr>\n",
       "    <tr>\n",
       "      <th>79</th>\n",
       "      <td>Aug-2016</td>\n",
       "      <td>569899</td>\n",
       "    </tr>\n",
       "    <tr>\n",
       "      <th>80</th>\n",
       "      <td>Sep-2016</td>\n",
       "      <td>768450</td>\n",
       "    </tr>\n",
       "    <tr>\n",
       "      <th>81</th>\n",
       "      <td>Oct-2016</td>\n",
       "      <td>102685</td>\n",
       "    </tr>\n",
       "    <tr>\n",
       "      <th>82</th>\n",
       "      <td>Nov-2016</td>\n",
       "      <td>795914</td>\n",
       "    </tr>\n",
       "  </tbody>\n",
       "</table>\n",
       "</div>"
      ]
     },
     "metadata": {},
     "execution_count": 104
    }
   ],
   "metadata": {}
  },
  {
   "cell_type": "code",
   "execution_count": 101,
   "source": [
    "print(bd.all)\r\n"
   ],
   "outputs": [
    {
     "output_type": "stream",
     "name": "stdout",
     "text": [
      "<bound method NDFrame._add_numeric_operations.<locals>.all of         Date  Profit/Losses\n",
      "0   Jan-2010         867884\n",
      "1   Feb-2010         984655\n",
      "2   Mar-2010         322013\n",
      "3   Apr-2010         -69417\n",
      "4   May-2010         310503\n",
      "..       ...            ...\n",
      "81  Oct-2016         102685\n",
      "82  Nov-2016         795914\n",
      "83  Dec-2016          60988\n",
      "84  Jan-2017         138230\n",
      "85  Feb-2017         671099\n",
      "\n",
      "[86 rows x 2 columns]>\n"
     ]
    }
   ],
   "metadata": {}
  }
 ],
 "metadata": {
  "orig_nbformat": 4,
  "language_info": {
   "name": "python",
   "version": "3.9.6",
   "mimetype": "text/x-python",
   "codemirror_mode": {
    "name": "ipython",
    "version": 3
   },
   "pygments_lexer": "ipython3",
   "nbconvert_exporter": "python",
   "file_extension": ".py"
  },
  "kernelspec": {
   "name": "python3",
   "display_name": "Python 3.9.6 64-bit (windows store)"
  },
  "interpreter": {
   "hash": "9b929d2ad1dd5d2626c3ff77c6a36d898fbc244916ba50142cd50a03f405c802"
  }
 },
 "nbformat": 4,
 "nbformat_minor": 2
}